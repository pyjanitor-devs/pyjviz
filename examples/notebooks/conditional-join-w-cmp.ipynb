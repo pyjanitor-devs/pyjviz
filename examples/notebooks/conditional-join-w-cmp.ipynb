{
 "cells": [
  {
   "cell_type": "code",
   "execution_count": null,
   "id": "067b0b39-02ec-490d-b3cf-4ff96f85933e",
   "metadata": {},
   "outputs": [
    {
     "name": "stdout",
     "output_type": "stream",
     "text": [
      "plotly\n",
      "setting up triple_store: <pyjviz.fstriplestore.FSTripleOutputOneShot object at 0x7f91560b5540>\n",
      "conditional_join df POSITIONAL_OR_KEYWORD\n",
      "conditional_join right POSITIONAL_OR_KEYWORD\n",
      "conditional_join conditions VAR_POSITIONAL\n",
      "conditional_join df_columns KEYWORD_ONLY\n",
      "conditional_join right_columns KEYWORD_ONLY\n",
      "arg id: 140263149244272 False\n",
      "ObjState ctor 140263149244272 <pyjviz.obj_utils.ObjId object at 0x7f9153ac3850>\n",
      "arg id: 140263149248304 False\n",
      "ObjState ctor 140263149248304 <pyjviz.obj_utils.ObjId object at 0x7f9153ac3970>\n",
      "ObjState ctor 140262151195952 <pyjviz.obj_utils.ObjId object at 0x7f9153a89a80>\n"
     ]
    }
   ],
   "source": [
    "import pandas as pd\n",
    "pd.options.plotting.backend = 'plotly'\n",
    "print(pd.options.plotting.backend)\n",
    "import janitor, pyjviz\n",
    "\n",
    "df1 = pd.DataFrame({'id': [1,1,1,2,2,3], 'value_1': [2,5,7,1,3,4]})\n",
    "\n",
    "df2 = pd.DataFrame({'id': [1,1,1,1,2,2,2,3],\n",
    "                        'value_2A': [0,3,7,12,0,2,3,1],\n",
    "                        'value_2B': [1,5,9,15,1,4,6,3]})\n",
    "\n",
    "#if 1:\n",
    "with pyjviz.CB(\"TOPTOP\") as C:\n",
    "    with pyjviz.CB(\"p1\") as p1:\n",
    "        res1 = df1.conditional_join(df2,('id', 'id', \"<\"),\n",
    "                                    df_columns = {'id':'df_id'},\n",
    "                                    right_columns = {'id':'right_id'}).pin()\n",
    "        \n",
    "    with pyjviz.CB(\"p2\"):\n",
    "        res2 = df1.select_columns('value_1').conditional_join(\n",
    "                                    df2.select_columns('val*'),\n",
    "                                    ('value_1', 'value_2A', '>'),\n",
    "                                    ('value_1', 'value_2B', '<')).pin()\n",
    "pyjviz.show(vertical = True)\n"
   ]
  },
  {
   "cell_type": "code",
   "execution_count": 1,
   "id": "4bb1f2c9-c6b9-4fee-8387-26345d37c458",
   "metadata": {},
   "outputs": [
    {
     "ename": "NameError",
     "evalue": "name 'pyjviz' is not defined",
     "output_type": "error",
     "traceback": [
      "\u001b[0;31m---------------------------------------------------------------------------\u001b[0m",
      "\u001b[0;31mNameError\u001b[0m                                 Traceback (most recent call last)",
      "Cell \u001b[0;32mIn[1], line 2\u001b[0m\n\u001b[1;32m      1\u001b[0m \u001b[38;5;66;03m#print(pyjviz.triple_store.out_fd.getvalue()[:200])\u001b[39;00m\n\u001b[0;32m----> 2\u001b[0m \u001b[43mpyjviz\u001b[49m\u001b[38;5;241m.\u001b[39mshow(vertical\u001b[38;5;241m=\u001b[39m\u001b[38;5;28;01mFalse\u001b[39;00m)\n\u001b[1;32m      3\u001b[0m \u001b[38;5;66;03m#C.show()\u001b[39;00m\n",
      "\u001b[0;31mNameError\u001b[0m: name 'pyjviz' is not defined"
     ]
    }
   ],
   "source": [
    "#print(pyjviz.triple_store.out_fd.getvalue()[:200])\n",
    "pyjviz.show(vertical=False)\n",
    "#C.show()"
   ]
  },
  {
   "cell_type": "code",
   "execution_count": null,
   "id": "468264b0-9b5c-4d4b-8ec3-f0f692db23ec",
   "metadata": {},
   "outputs": [],
   "source": []
  },
  {
   "cell_type": "code",
   "execution_count": null,
   "id": "b3d8d270-28e4-45d9-acd3-e8a9bf2add3d",
   "metadata": {},
   "outputs": [],
   "source": []
  }
 ],
 "metadata": {
  "kernelspec": {
   "display_name": "Python 3 (ipykernel)",
   "language": "python",
   "name": "python3"
  },
  "language_info": {
   "codemirror_mode": {
    "name": "ipython",
    "version": 3
   },
   "file_extension": ".py",
   "mimetype": "text/x-python",
   "name": "python",
   "nbconvert_exporter": "python",
   "pygments_lexer": "ipython3",
   "version": "3.10.8"
  },
  "toc-autonumbering": true,
  "toc-showcode": true,
  "toc-showmarkdowntxt": true,
  "toc-showtags": false
 },
 "nbformat": 4,
 "nbformat_minor": 5
}
