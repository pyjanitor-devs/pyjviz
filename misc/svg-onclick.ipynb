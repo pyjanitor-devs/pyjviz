#!/usr/bin/env python
# coding: utf-8

# In[ ]:


from IPython.display import display, HTML

html_code = f"""
 <svg xmlns="http://www.w3.org/2000/svg" width="100" height="100" viewBox="0 0 24 24" fill="none" stroke="#e2062c" stroke-width="1.5" stroke-linecap="round" stroke-linejoin="round" cl\
ass="feather feather-heart">
  <path d="M20.84 4.61a5.5 5.5 0 0 0-7.78 0L12 5.67l-1.06-1.06a5.5 5.5 0 0 0-7.78 7.78l1.06 1.06L12 21.23l7.78-7.78 1.06-1.06a5.5 5.5 0 0 0 0-7.78z" 
        onclick="window.open('', '_blank', 'width=800,height=200').document.body.innerHTML = '<b>Hello, world!</b>'"></path>
 </svg>"""

display(HTML(html_code))


# In[ ]:


if 1:
    image_src = """
<!DOCTYPE html>
<html>
  <head>
    <title>Title of the document</title>
  </head>
  <body>
    <div>
      <p>From wikipedia</p>
      <img src='data:image/png;base64, iVBORw0KGgoAAAANSUhEUgAAAAUAAAAFCAYAAACNbyblAAAAHElEQVQI12P4
                 //8/w38GIAXDIBKE0DHxgljNBAAO
    9TXL0Y4OHwAAAABJRU5ErkJggg==' alt='hello'/>
    </div>
  </body>
</html>
    """
else:
    image_src = "<b>Nuinu</b>"

html_code = f"""
 <svg xmlns="http://www.w3.org/2000/svg" width="100" height="100" viewBox="0 0 24 24" fill="none" stroke="#e2062c" stroke-width="1.5" stroke-linecap="round" stroke-linejoin="round" cl\
ass="feather feather-heart">
  <path d="M20.84 4.61a5.5 5.5 0 0 0-7.78 0L12 5.67l-1.06-1.06a5.5 5.5 0 0 0-7.78 7.78l1.06 1.06L12 21.23l7.78-7.78 1.06-1.06a5.5 5.5 0 0 0 0-7.78z" 
        onclick="window.open('', '_blank', 'width=800,height=200').document.body.innerHTML = `{image_src}`"></path>
 </svg>"""

display(HTML(html_code))
#print(html_code)


# In[ ]:




