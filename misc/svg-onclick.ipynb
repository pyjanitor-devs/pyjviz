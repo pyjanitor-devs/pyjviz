{
 "cells": [
  {
   "cell_type": "code",
   "execution_count": 80,
   "id": "242fb875-aca2-46b6-81c9-c2190829b59c",
   "metadata": {
    "tags": []
   },
   "outputs": [
    {
     "data": {
      "text/html": [
       "\n",
       " <svg xmlns=\"http://www.w3.org/2000/svg\" width=\"100\" height=\"100\" viewBox=\"0 0 24 24\" fill=\"none\" stroke=\"#e2062c\" stroke-width=\"1.5\" stroke-linecap=\"round\" stroke-linejoin=\"round\" class=\"feather feather-heart\">\n",
       "  <path d=\"M20.84 4.61a5.5 5.5 0 0 0-7.78 0L12 5.67l-1.06-1.06a5.5 5.5 0 0 0-7.78 7.78l1.06 1.06L12 21.23l7.78-7.78 1.06-1.06a5.5 5.5 0 0 0 0-7.78z\" \n",
       "        onclick=\"window.open('', '_blank', 'width=800,height=200').document.body.innerHTML = '<b>Hello, world!</b>'\"></path>\n",
       " </svg>"
      ],
      "text/plain": [
       "<IPython.core.display.HTML object>"
      ]
     },
     "metadata": {},
     "output_type": "display_data"
    }
   ],
   "source": [
    "from IPython.display import display, HTML\n",
    "\n",
    "html_code = f\"\"\"\n",
    " <svg xmlns=\"http://www.w3.org/2000/svg\" width=\"100\" height=\"100\" viewBox=\"0 0 24 24\" fill=\"none\" stroke=\"#e2062c\" stroke-width=\"1.5\" stroke-linecap=\"round\" stroke-linejoin=\"round\" cl\\\n",
    "ass=\"feather feather-heart\">\n",
    "  <path d=\"M20.84 4.61a5.5 5.5 0 0 0-7.78 0L12 5.67l-1.06-1.06a5.5 5.5 0 0 0-7.78 7.78l1.06 1.06L12 21.23l7.78-7.78 1.06-1.06a5.5 5.5 0 0 0 0-7.78z\" \n",
    "        onclick=\"window.open('', '_blank', 'width=800,height=200').document.body.innerHTML = '<b>Hello, world!</b>'\"></path>\n",
    " </svg>\"\"\"\n",
    "\n",
    "display(HTML(html_code))"
   ]
  },
  {
   "cell_type": "code",
   "execution_count": 81,
   "id": "6251f6fc-d690-4a85-ba6b-9452edb99861",
   "metadata": {
    "tags": []
   },
   "outputs": [
    {
     "data": {
      "text/html": [
       "\n",
       " <svg xmlns=\"http://www.w3.org/2000/svg\" width=\"100\" height=\"100\" viewBox=\"0 0 24 24\" fill=\"none\" stroke=\"#e2062c\" stroke-width=\"1.5\" stroke-linecap=\"round\" stroke-linejoin=\"round\" class=\"feather feather-heart\">\n",
       "  <path d=\"M20.84 4.61a5.5 5.5 0 0 0-7.78 0L12 5.67l-1.06-1.06a5.5 5.5 0 0 0-7.78 7.78l1.06 1.06L12 21.23l7.78-7.78 1.06-1.06a5.5 5.5 0 0 0 0-7.78z\" \n",
       "        onclick=\"window.open('', '_blank', 'width=800,height=200').document.body.innerHTML = `\n",
       "<!DOCTYPE html>\n",
       "<html>\n",
       "  <head>\n",
       "    <title>Title of the document</title>\n",
       "  </head>\n",
       "  <body>\n",
       "    <div>\n",
       "      <p>From wikipedia</p>\n",
       "      <img src='data:image/png;base64, iVBORw0KGgoAAAANSUhEUgAAAAUAAAAFCAYAAACNbyblAAAAHElEQVQI12P4\n",
       "                 //8/w38GIAXDIBKE0DHxgljNBAAO\n",
       "    9TXL0Y4OHwAAAABJRU5ErkJggg==' alt='hello'/>\n",
       "    </div>\n",
       "  </body>\n",
       "</html>\n",
       "    `\"></path>\n",
       " </svg>"
      ],
      "text/plain": [
       "<IPython.core.display.HTML object>"
      ]
     },
     "metadata": {},
     "output_type": "display_data"
    }
   ],
   "source": [
    "if 1:\n",
    "    image_src = \"\"\"\n",
    "<!DOCTYPE html>\n",
    "<html>\n",
    "  <head>\n",
    "    <title>Title of the document</title>\n",
    "  </head>\n",
    "  <body>\n",
    "    <div>\n",
    "      <p>From wikipedia</p>\n",
    "      <img src='data:image/png;base64, iVBORw0KGgoAAAANSUhEUgAAAAUAAAAFCAYAAACNbyblAAAAHElEQVQI12P4\n",
    "                 //8/w38GIAXDIBKE0DHxgljNBAAO\n",
    "    9TXL0Y4OHwAAAABJRU5ErkJggg==' alt='hello'/>\n",
    "    </div>\n",
    "  </body>\n",
    "</html>\n",
    "    \"\"\"\n",
    "else:\n",
    "    image_src = \"<b>Nuinu</b>\"\n",
    "\n",
    "html_code = f\"\"\"\n",
    " <svg xmlns=\"http://www.w3.org/2000/svg\" width=\"100\" height=\"100\" viewBox=\"0 0 24 24\" fill=\"none\" stroke=\"#e2062c\" stroke-width=\"1.5\" stroke-linecap=\"round\" stroke-linejoin=\"round\" cl\\\n",
    "ass=\"feather feather-heart\">\n",
    "  <path d=\"M20.84 4.61a5.5 5.5 0 0 0-7.78 0L12 5.67l-1.06-1.06a5.5 5.5 0 0 0-7.78 7.78l1.06 1.06L12 21.23l7.78-7.78 1.06-1.06a5.5 5.5 0 0 0 0-7.78z\" \n",
    "        onclick=\"window.open('', '_blank', 'width=800,height=200').document.body.innerHTML = `{image_src}`\"></path>\n",
    " </svg>\"\"\"\n",
    "\n",
    "display(HTML(html_code))\n",
    "#print(html_code)"
   ]
  },
  {
   "cell_type": "code",
   "execution_count": null,
   "id": "57bd5889-6a30-4290-8d8a-8f6584a69cb6",
   "metadata": {},
   "outputs": [],
   "source": []
  }
 ],
 "metadata": {
  "kernelspec": {
   "display_name": "Python 3 (ipykernel)",
   "language": "python",
   "name": "python3"
  },
  "language_info": {
   "codemirror_mode": {
    "name": "ipython",
    "version": 3
   },
   "file_extension": ".py",
   "mimetype": "text/x-python",
   "name": "python",
   "nbconvert_exporter": "python",
   "pygments_lexer": "ipython3",
   "version": "3.10.8"
  }
 },
 "nbformat": 4,
 "nbformat_minor": 5
}
